{
  "cells": [
    {
      "cell_type": "code",
      "execution_count": null,
      "metadata": {
        "id": "xh1JjLdQxHxQ"
      },
      "outputs": [],
      "source": [
        "import os\n",
        "import zipfile\n",
        "\n",
        "from PIL import Image\n",
        "import pytesseract"
      ]
    },
    {
      "cell_type": "code",
      "execution_count": null,
      "metadata": {
        "id": "sFvqKnEzxn0F"
      },
      "outputs": [],
      "source": [
        "with zipfile.ZipFile(\"petfood.zip\",\"r\") as zip_ref:\n",
        "    zip_ref.extractall(\"\")"
      ]
    },
    {
      "cell_type": "code",
      "execution_count": null,
      "metadata": {
        "id": "zVU5YGopySrv"
      },
      "outputs": [],
      "source": [
        "pytesseract.pytesseract.tesseract_cmd = '/usr/local/bin/tesseract'"
      ]
    },
    {
      "cell_type": "code",
      "execution_count": null,
      "metadata": {
        "id": "03qYy63-zMYE"
      },
      "outputs": [],
      "source": [
        "filelist = []\n",
        "for root, dirs, files in os.walk(\"petfood/\"):\n",
        "    for file in files:\n",
        "        filelist.append(file)"
      ]
    },
    {
      "cell_type": "code",
      "execution_count": null,
      "metadata": {
        "id": "DWEfwKo5y4r8",
        "tags": []
      },
      "outputs": [],
      "source": [
        "for file in filelist:\n",
        "    content = pytesseract.image_to_string(Image.open(\"petfood/\"+str(file)))\n",
        "    with open(\"petfood/\"+str(file.split(\".\")[0])+\".txt\", \"w\") as text_file:\n",
        "        text_file.write(content)"
      ]
    }
  ],
  "metadata": {
    "accelerator": "GPU",
    "colab": {
      "collapsed_sections": [],
      "name": "text_recognition.ipynb",
      "provenance": []
    },
    "gpuClass": "standard",
    "kernelspec": {
      "display_name": "Python 3 (ipykernel)",
      "language": "python",
      "name": "python3"
    },
    "language_info": {
      "codemirror_mode": {
        "name": "ipython",
        "version": 3
      },
      "file_extension": ".py",
      "mimetype": "text/x-python",
      "name": "python",
      "nbconvert_exporter": "python",
      "pygments_lexer": "ipython3",
      "version": "3.7.4"
    }
  },
  "nbformat": 4,
  "nbformat_minor": 0
}