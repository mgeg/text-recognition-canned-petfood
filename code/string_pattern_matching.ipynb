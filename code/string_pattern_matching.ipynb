{
  "nbformat": 4,
  "nbformat_minor": 0,
  "metadata": {
    "colab": {
      "name": "string_pattern_matching.ipynb",
      "provenance": [],
      "collapsed_sections": []
    },
    "kernelspec": {
      "name": "python3",
      "display_name": "Python 3"
    },
    "language_info": {
      "name": "python"
    }
  },
  "cells": [
    {
      "cell_type": "code",
      "execution_count": null,
      "metadata": {
        "id": "G3qyXpkttBIw"
      },
      "outputs": [],
      "source": [
        "import re \n",
        "import os "
      ]
    },
    {
      "cell_type": "code",
      "source": [
        "filelist = []\n",
        "for root, dirs, files in os.walk(\"/content/petfood\"):\n",
        "  for file in files:\n",
        "    filelist.append(\"petfood/\"+str(file))"
      ],
      "metadata": {
        "id": "qaEeGDh3xaBH"
      },
      "execution_count": null,
      "outputs": []
    },
    {
      "cell_type": "code",
      "source": [
        "for file in filelist:\n",
        "  with open(file) as f:\n",
        "    doc = f.read()\n",
        "    doc = doc.lower()\n",
        "    if '%' not in doc:\n",
        "        continue\n",
        "    elif 'guaranteed analysis' in doc:\n",
        "        doc= doc.split('guaranteed analysis')[1]\n",
        "        doc = doc.strip() \n",
        "        if doc.startswith(\":\"):\n",
        "            doc = doc[1:]\n",
        "        doc_key = doc.rsplit('%',1)[0] + str('%')\n",
        "        doc_after = doc.rsplit('%',1)[1]\n",
        "        doc_after = doc_after.strip()\n",
        "        if doc_after.startswith(\"(min)\"):\n",
        "            doc_key += str(' (min)')\n",
        "  \n",
        "  output_filename = file.split(\".\")[0]\n",
        "  with open(str(output_filename) + '_output.txt', 'a') as f:\n",
        "    f.write('\\nGuaranteed Analysis:\\n')\n",
        "    f.write(doc_key)"
      ],
      "metadata": {
        "id": "dV3L4GU7xcFo"
      },
      "execution_count": null,
      "outputs": []
    }
  ]
}